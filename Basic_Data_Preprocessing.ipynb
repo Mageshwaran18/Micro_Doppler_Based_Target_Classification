{
 "cells": [
  {
   "cell_type": "code",
   "execution_count": 24,
   "metadata": {},
   "outputs": [],
   "source": [
    "import os\n",
    "import numpy as np\n",
    "import pandas as pd"
   ]
  },
  {
   "cell_type": "markdown",
   "metadata": {},
   "source": [
    "<h3>Create an DataFramee</h3>"
   ]
  },
  {
   "cell_type": "code",
   "execution_count": 25,
   "metadata": {},
   "outputs": [
    {
     "data": {
      "text/html": [
       "<div>\n",
       "<style scoped>\n",
       "    .dataframe tbody tr th:only-of-type {\n",
       "        vertical-align: middle;\n",
       "    }\n",
       "\n",
       "    .dataframe tbody tr th {\n",
       "        vertical-align: top;\n",
       "    }\n",
       "\n",
       "    .dataframe thead th {\n",
       "        text-align: right;\n",
       "    }\n",
       "</style>\n",
       "<table border=\"1\" class=\"dataframe\">\n",
       "  <thead>\n",
       "    <tr style=\"text-align: right;\">\n",
       "      <th></th>\n",
       "      <th>target_type</th>\n",
       "      <th>segment_data</th>\n",
       "      <th>range_meters</th>\n",
       "      <th>time_seconds</th>\n",
       "      <th>dataset_split</th>\n",
       "      <th>edge_indicator</th>\n",
       "    </tr>\n",
       "  </thead>\n",
       "  <tbody>\n",
       "    <tr>\n",
       "      <th>0</th>\n",
       "      <td>[D1]</td>\n",
       "      <td>[[(-0.0803837295206183-0.024996274181930858j),...</td>\n",
       "      <td>[[62.26415142983489], [62.26415142983489], [62...</td>\n",
       "      <td>[[0.04242135490599999], [0.14313034690999998],...</td>\n",
       "      <td>[[2], [3], [1], [3], [1], [1], [1], [1], [3], ...</td>\n",
       "      <td>[[0], [0], [0], [0], [0], [0], [0], [0], [0], ...</td>\n",
       "    </tr>\n",
       "    <tr>\n",
       "      <th>1</th>\n",
       "      <td>[D1]</td>\n",
       "      <td>[[(0.1592469814114204-0.3764412575384074j), (0...</td>\n",
       "      <td>[[116.03773675560139], [116.03773675560139], [...</td>\n",
       "      <td>[[0.04531640558899999], [0.148743200275], [0.2...</td>\n",
       "      <td>[[3], [1], [3], [1], [1], [1], [2], [2], [1], ...</td>\n",
       "      <td>[[0], [0], [0], [0], [0], [0], [0], [0], [0], ...</td>\n",
       "    </tr>\n",
       "    <tr>\n",
       "      <th>2</th>\n",
       "      <td>[D1]</td>\n",
       "      <td>[[(-0.36744600235662883-0.17434743507810269j),...</td>\n",
       "      <td>[[75.47169870283017], [75.47169870283017], [75...</td>\n",
       "      <td>[[0.04389842158099999], [0.14448924825099999],...</td>\n",
       "      <td>[[1], [1], [1], [1], [2], [1], [1], [3], [2], ...</td>\n",
       "      <td>[[0], [0], [0], [0], [0], [0], [0], [0], [0], ...</td>\n",
       "    </tr>\n",
       "    <tr>\n",
       "      <th>3</th>\n",
       "      <td>[D1]</td>\n",
       "      <td>[[(-0.7918969406816826-0.0388248167751634j), (...</td>\n",
       "      <td>[[145.28302000294806], [145.28302000294806], [...</td>\n",
       "      <td>[[0.04372117357999999], [0.14372117358], [0.24...</td>\n",
       "      <td>[[1], [2], [3], [1], [3], [1], [3], [1], [1], ...</td>\n",
       "      <td>[[0], [0], [0], [0], [0], [0], [0], [0], [0], ...</td>\n",
       "    </tr>\n",
       "    <tr>\n",
       "      <th>4</th>\n",
       "      <td>[D1]</td>\n",
       "      <td>[[(0.08721619353018038-0.05631563733996364j), ...</td>\n",
       "      <td>[[22.641509610849056], [22.641509610849056], [...</td>\n",
       "      <td>[[0.03592226153599999], [0.13604042687], [0.23...</td>\n",
       "      <td>[[1], [1], [3], [1], [3], [1], [1], [1], [1], ...</td>\n",
       "      <td>[[0], [0], [0], [0], [0], [0], [0], [0], [0], ...</td>\n",
       "    </tr>\n",
       "  </tbody>\n",
       "</table>\n",
       "</div>"
      ],
      "text/plain": [
       "  target_type                                       segment_data  \\\n",
       "0        [D1]  [[(-0.0803837295206183-0.024996274181930858j),...   \n",
       "1        [D1]  [[(0.1592469814114204-0.3764412575384074j), (0...   \n",
       "2        [D1]  [[(-0.36744600235662883-0.17434743507810269j),...   \n",
       "3        [D1]  [[(-0.7918969406816826-0.0388248167751634j), (...   \n",
       "4        [D1]  [[(0.08721619353018038-0.05631563733996364j), ...   \n",
       "\n",
       "                                        range_meters  \\\n",
       "0  [[62.26415142983489], [62.26415142983489], [62...   \n",
       "1  [[116.03773675560139], [116.03773675560139], [...   \n",
       "2  [[75.47169870283017], [75.47169870283017], [75...   \n",
       "3  [[145.28302000294806], [145.28302000294806], [...   \n",
       "4  [[22.641509610849056], [22.641509610849056], [...   \n",
       "\n",
       "                                        time_seconds  \\\n",
       "0  [[0.04242135490599999], [0.14313034690999998],...   \n",
       "1  [[0.04531640558899999], [0.148743200275], [0.2...   \n",
       "2  [[0.04389842158099999], [0.14448924825099999],...   \n",
       "3  [[0.04372117357999999], [0.14372117358], [0.24...   \n",
       "4  [[0.03592226153599999], [0.13604042687], [0.23...   \n",
       "\n",
       "                                       dataset_split  \\\n",
       "0  [[2], [3], [1], [3], [1], [1], [1], [1], [3], ...   \n",
       "1  [[3], [1], [3], [1], [1], [1], [2], [2], [1], ...   \n",
       "2  [[1], [1], [1], [1], [2], [1], [1], [3], [2], ...   \n",
       "3  [[1], [2], [3], [1], [3], [1], [3], [1], [1], ...   \n",
       "4  [[1], [1], [3], [1], [3], [1], [1], [1], [1], ...   \n",
       "\n",
       "                                      edge_indicator  \n",
       "0  [[0], [0], [0], [0], [0], [0], [0], [0], [0], ...  \n",
       "1  [[0], [0], [0], [0], [0], [0], [0], [0], [0], ...  \n",
       "2  [[0], [0], [0], [0], [0], [0], [0], [0], [0], ...  \n",
       "3  [[0], [0], [0], [0], [0], [0], [0], [0], [0], ...  \n",
       "4  [[0], [0], [0], [0], [0], [0], [0], [0], [0], ...  "
      ]
     },
     "execution_count": 25,
     "metadata": {},
     "output_type": "execute_result"
    }
   ],
   "source": [
    "# Load the .npy file\n",
    "data = np.load('Data_Set.npy',allow_pickle=True)\n",
    "\n",
    "# Create a dataframe from the numpy array\n",
    "df = pd.DataFrame(data)\n",
    "\n",
    "df.columns = ['target_type', 'segment_data', 'range_meters', 'time_seconds', 'dataset_split', 'edge_indicator']\n",
    "\n",
    "df.head()"
   ]
  },
  {
   "cell_type": "markdown",
   "metadata": {},
   "source": [
    "<h3>Remove the unwanted columns</h3>"
   ]
  },
  {
   "cell_type": "code",
   "execution_count": 26,
   "metadata": {},
   "outputs": [],
   "source": [
    "# Keep only target_type and segment_data columns\n",
    "df = df[['target_type', 'segment_data']]"
   ]
  },
  {
   "cell_type": "markdown",
   "metadata": {},
   "source": [
    "<h3>Label encoding the target_types</h3>"
   ]
  },
  {
   "cell_type": "code",
   "execution_count": 27,
   "metadata": {
    "vscode": {
     "languageId": "ruby"
    }
   },
   "outputs": [],
   "source": [
    "# Define valid target types\n",
    "target_mapping = {\n",
    "    'D1': 1,\n",
    "    'D2': 1,\n",
    "    'D3': 1,\n",
    "    'D4': 1,\n",
    "    'D5': 1,\n",
    "    'D6': 1,\n",
    "    'seagull': 0,\n",
    "    'pigeon': 0,\n",
    "    'raven': 0,\n",
    "    'black-headed gull': 0,\n",
    "    'seagull and black-headed gull': 0,\n",
    "    'heron': 0\n",
    "}\n",
    "\n",
    "# Keep only rows where target_type is in our mapping\n",
    "df = df[df['target_type'].apply(lambda x: x[0] in target_mapping)]\n",
    "\n",
    "# Now map the values to binary\n",
    "df['target_type'] = df['target_type'].apply(lambda x: target_mapping[x[0]])\n"
   ]
  },
  {
   "cell_type": "code",
   "execution_count": 28,
   "metadata": {},
   "outputs": [
    {
     "name": "stdout",
     "output_type": "stream",
     "text": [
      "Target Type Distribution:\n",
      "\n",
      "Counts:\n",
      "target_type\n",
      "0    56\n",
      "1    44\n",
      "Name: count, dtype: int64\n"
     ]
    }
   ],
   "source": [
    "# Get value counts and percentages\n",
    "target_summary = df['target_type'].value_counts()\n",
    "target_percentages = df['target_type'].value_counts(normalize=True) * 100\n",
    "\n",
    "print(\"Target Type Distribution:\")\n",
    "print(\"\\nCounts:\")\n",
    "print(target_summary)\n"
   ]
  },
  {
   "cell_type": "code",
   "execution_count": 29,
   "metadata": {},
   "outputs": [
    {
     "data": {
      "text/html": [
       "<div>\n",
       "<style scoped>\n",
       "    .dataframe tbody tr th:only-of-type {\n",
       "        vertical-align: middle;\n",
       "    }\n",
       "\n",
       "    .dataframe tbody tr th {\n",
       "        vertical-align: top;\n",
       "    }\n",
       "\n",
       "    .dataframe thead th {\n",
       "        text-align: right;\n",
       "    }\n",
       "</style>\n",
       "<table border=\"1\" class=\"dataframe\">\n",
       "  <thead>\n",
       "    <tr style=\"text-align: right;\">\n",
       "      <th></th>\n",
       "      <th>target_type</th>\n",
       "      <th>segment_data</th>\n",
       "    </tr>\n",
       "  </thead>\n",
       "  <tbody>\n",
       "    <tr>\n",
       "      <th>0</th>\n",
       "      <td>1</td>\n",
       "      <td>[[(-0.0803837295206183-0.024996274181930858j),...</td>\n",
       "    </tr>\n",
       "    <tr>\n",
       "      <th>1</th>\n",
       "      <td>1</td>\n",
       "      <td>[[(0.1592469814114204-0.3764412575384074j), (0...</td>\n",
       "    </tr>\n",
       "    <tr>\n",
       "      <th>2</th>\n",
       "      <td>1</td>\n",
       "      <td>[[(-0.36744600235662883-0.17434743507810269j),...</td>\n",
       "    </tr>\n",
       "    <tr>\n",
       "      <th>3</th>\n",
       "      <td>1</td>\n",
       "      <td>[[(-0.7918969406816826-0.0388248167751634j), (...</td>\n",
       "    </tr>\n",
       "    <tr>\n",
       "      <th>4</th>\n",
       "      <td>1</td>\n",
       "      <td>[[(0.08721619353018038-0.05631563733996364j), ...</td>\n",
       "    </tr>\n",
       "  </tbody>\n",
       "</table>\n",
       "</div>"
      ],
      "text/plain": [
       "   target_type                                       segment_data\n",
       "0            1  [[(-0.0803837295206183-0.024996274181930858j),...\n",
       "1            1  [[(0.1592469814114204-0.3764412575384074j), (0...\n",
       "2            1  [[(-0.36744600235662883-0.17434743507810269j),...\n",
       "3            1  [[(-0.7918969406816826-0.0388248167751634j), (...\n",
       "4            1  [[(0.08721619353018038-0.05631563733996364j), ..."
      ]
     },
     "execution_count": 29,
     "metadata": {},
     "output_type": "execute_result"
    }
   ],
   "source": [
    "df.head()"
   ]
  },
  {
   "cell_type": "markdown",
   "metadata": {},
   "source": [
    "<h3>Save each segment data in as a separate file</h3>"
   ]
  },
  {
   "cell_type": "code",
   "execution_count": 30,
   "metadata": {},
   "outputs": [
    {
     "name": "stdout",
     "output_type": "stream",
     "text": [
      "Saved 44 drone files and 56 bird files\n"
     ]
    }
   ],
   "source": [
    "# Create directories if they don't exist\n",
    "os.makedirs('Drone_segment_only_data', exist_ok=True)\n",
    "os.makedirs('Bird_segment_only_data', exist_ok=True)\n",
    "\n",
    "# Counter for file naming\n",
    "drone_counter = 1\n",
    "bird_counter = 1\n",
    "\n",
    "# Iterate through the dataframe\n",
    "for index, row in df.iterrows():\n",
    "    if row['target_type'] == 1:\n",
    "        # Save drone data\n",
    "        np.save(f'Drone_segment_only_data/drone{drone_counter}.npy', row['segment_data'])\n",
    "        drone_counter += 1\n",
    "    else:\n",
    "        # Save bird data\n",
    "        np.save(f'Bird_segment_only_data/bird{bird_counter}.npy', row['segment_data'])\n",
    "        bird_counter += 1\n",
    "\n",
    "print(f\"Saved {drone_counter-1} drone files and {bird_counter-1} bird files\")\n"
   ]
  },
  {
   "cell_type": "code",
   "execution_count": 21,
   "metadata": {},
   "outputs": [
    {
     "name": "stdout",
     "output_type": "stream",
     "text": [
      "Numpy array shape: (1280, 32)\n",
      "DataFrame shape: (1280, 32)\n"
     ]
    }
   ],
   "source": [
    "''' To check the dimension of the data being saved in .npy format '''\n",
    "\n",
    "# Load a numpy file\n",
    "data = np.load(r'D:\\Project\\SIH\\Classification_Backend\\Micro_Doppler_Based_Target_Classification\\Bird_segment_only_data\\bird13.npy')\n",
    "\n",
    "# Convert the numpy array to a DataFrame\n",
    "df = pd.DataFrame(data)\n",
    "\n",
    "# Save the DataFrame to a CSV file\n",
    "df.to_csv('output_file.csv', index=False)\n",
    "\n",
    "# Print the shape of the numpy array and the DataFrame\n",
    "print(f\"Numpy array shape: {data.shape}\")\n",
    "print(f\"DataFrame shape: {df.shape}\")"
   ]
  },
  {
   "cell_type": "markdown",
   "metadata": {},
   "source": [
    "<h3>Store each segment as a separate npy file </h3>"
   ]
  },
  {
   "cell_type": "code",
   "execution_count": 32,
   "metadata": {},
   "outputs": [
    {
     "name": "stdout",
     "output_type": "stream",
     "text": [
      "Successfully split 56 bird files into individual segments\n",
      "Successfully split 44 drone files into individual segments\n"
     ]
    }
   ],
   "source": [
    "def process_segments(input_dir, output_base_dir, file_prefix):\n",
    "    os.makedirs(output_base_dir, exist_ok=True)\n",
    "    \n",
    "    # Get list of all files\n",
    "    files = os.listdir(input_dir)\n",
    "    \n",
    "    # Process each file\n",
    "    for file in files:\n",
    "        if file.endswith('.npy'):\n",
    "            # Get file name without extension\n",
    "            number = file.split('.')[0]  # Get bird1/drone1 etc\n",
    "            \n",
    "            # Create specific folder for this file's segments\n",
    "            file_output_dir = f'{output_base_dir}/{number}'\n",
    "            os.makedirs(file_output_dir, exist_ok=True)\n",
    "            \n",
    "            # Load the segment data\n",
    "            data = np.load(f'{input_dir}/{file}')\n",
    "            \n",
    "            # Split and save each column\n",
    "            for col in range(data.shape[1]):\n",
    "                column_data = data[:, col].reshape(1, -1)\n",
    "                np.save(f'{file_output_dir}/{number}_{col+1}seg.npy', column_data)\n",
    "    \n",
    "    print(f\"Successfully split {len(files)} {file_prefix} files into individual segments\")\n",
    "\n",
    "# Process bird segments\n",
    "process_segments('Bird_segment_only_data', 'Bird_single_segment_data', 'bird')\n",
    "\n",
    "# Process drone segments\n",
    "process_segments('Drone_segment_only_data', 'Drone_single_segment_data', 'drone')\n"
   ]
  },
  {
   "cell_type": "markdown",
   "metadata": {},
   "source": [
    "<h3>Read the number of files in the Drones and Birds</h3>"
   ]
  },
  {
   "cell_type": "code",
   "execution_count": 33,
   "metadata": {},
   "outputs": [
    {
     "name": "stdout",
     "output_type": "stream",
     "text": [
      "Number of drone segment files: 58768\n",
      "Number of bird segment files: 7792\n",
      "Total number of segment files: 66560\n"
     ]
    }
   ],
   "source": [
    "def count_segments(base_dir):\n",
    "    total_count = 0\n",
    "    # Iterate through each subdirectory\n",
    "    for folder in os.listdir(base_dir):\n",
    "        folder_path = os.path.join(base_dir, folder)\n",
    "        if os.path.isdir(folder_path):\n",
    "            # Count .npy files in each subdirectory\n",
    "            count = len([f for f in os.listdir(folder_path) if f.endswith('.npy')])\n",
    "            total_count += count\n",
    "    return total_count\n",
    "\n",
    "# Count files in drone and bird segments folders\n",
    "drone_files = count_segments('Drone_single_segment_data')\n",
    "bird_files = count_segments('Bird_single_segment_data')\n",
    "\n",
    "print(f\"Number of drone segment files: {drone_files}\")\n",
    "print(f\"Number of bird segment files: {bird_files}\")\n",
    "print(f\"Total number of segment files: {drone_files + bird_files}\")\n"
   ]
  },
  {
   "cell_type": "code",
   "execution_count": 34,
   "metadata": {},
   "outputs": [
    {
     "name": "stdout",
     "output_type": "stream",
     "text": [
      "Numpy array shape: (1, 1280)\n",
      "DataFrame shape: (1, 1280)\n"
     ]
    }
   ],
   "source": [
    "# Load a numpy file\n",
    "data = np.load(r'D:\\Project\\SIH\\Classification_Backend\\Micro_Doppler_Based_Target_Classification\\Data_Sets\\bird56_segment_2.npy')\n",
    "\n",
    "# Convert the numpy array to a DataFrame\n",
    "df = pd.DataFrame(data)\n",
    "\n",
    "# Save the DataFrame to a CSV file\n",
    "df.to_csv('output_file.csv', index=False)\n",
    "\n",
    "# Print the shape of the numpy array and the DataFrame\n",
    "print(f\"Numpy array shape: {data.shape}\")\n",
    "print(f\"DataFrame shape: {df.shape}\")"
   ]
  },
  {
   "cell_type": "code",
   "execution_count": 35,
   "metadata": {},
   "outputs": [
    {
     "name": "stdout",
     "output_type": "stream",
     "text": [
      "Numpy array shape: (1, 1280)\n",
      "DataFrame shape: (1, 1280)\n"
     ]
    }
   ],
   "source": [
    "# Load a numpy file\n",
    "data = np.load(r'D:\\Project\\SIH\\Classification_Backend\\Micro_Doppler_Based_Target_Classification\\Drone_single_segment_data\\drone37\\drone37_21seg.npy')\n",
    "\n",
    "# Convert the numpy array to a DataFrame\n",
    "df = pd.DataFrame(data)\n",
    "\n",
    "# Save the DataFrame to a CSV file\n",
    "df.to_csv('output_file.csv', index=False)\n",
    "\n",
    "# Print the shape of the numpy array and the DataFrame\n",
    "print(f\"Numpy array shape: {data.shape}\")\n",
    "print(f\"DataFrame shape: {df.shape}\")"
   ]
  },
  {
   "cell_type": "code",
   "execution_count": null,
   "metadata": {},
   "outputs": [],
   "source": []
  }
 ],
 "metadata": {
  "kernelspec": {
   "display_name": "SIH",
   "language": "python",
   "name": "python3"
  },
  "language_info": {
   "codemirror_mode": {
    "name": "ipython",
    "version": 3
   },
   "file_extension": ".py",
   "mimetype": "text/x-python",
   "name": "python",
   "nbconvert_exporter": "python",
   "pygments_lexer": "ipython3",
   "version": "3.11.11"
  }
 },
 "nbformat": 4,
 "nbformat_minor": 2
}
